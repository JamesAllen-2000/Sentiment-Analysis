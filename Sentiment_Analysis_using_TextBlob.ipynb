{
  "nbformat": 4,
  "nbformat_minor": 0,
  "metadata": {
    "colab": {
      "provenance": [],
      "authorship_tag": "ABX9TyOUbSx3p6SFnZlikCfWetnZ",
      "include_colab_link": true
    },
    "kernelspec": {
      "name": "python3",
      "display_name": "Python 3"
    },
    "language_info": {
      "name": "python"
    }
  },
  "cells": [
    {
      "cell_type": "markdown",
      "metadata": {
        "id": "view-in-github",
        "colab_type": "text"
      },
      "source": [
        "<a href=\"https://colab.research.google.com/github/JamesAllen-2000/Sentiment-Analysis/blob/main/Sentiment_Analysis_using_TextBlob.ipynb\" target=\"_parent\"><img src=\"https://colab.research.google.com/assets/colab-badge.svg\" alt=\"Open In Colab\"/></a>"
      ]
    },
    {
      "cell_type": "code",
      "execution_count": 1,
      "metadata": {
        "id": "_25nomQB3Tw6"
      },
      "outputs": [],
      "source": [
        "from textblob import TextBlob\n",
        "from transformers import pipeline"
      ]
    },
    {
      "cell_type": "code",
      "source": [
        "def analyze_sentiment_textblob(text):\n",
        "    blob = TextBlob(text)\n",
        "    sentiment = blob.sentiment\n",
        "    return sentiment.polarity, sentiment.subjectivity\n",
        "\n",
        "def analyze_sentiment_transformers(text):\n",
        "    sentiment_analysis = pipeline(\"sentiment-analysis\", model=\"distilbert-base-uncased-finetuned-sst-2-english\")\n",
        "    result = sentiment_analysis(text)[0]\n",
        "    return result['label'], result['score']"
      ],
      "metadata": {
        "id": "9YgYoDUk3w7_"
      },
      "execution_count": 7,
      "outputs": []
    },
    {
      "cell_type": "code",
      "source": [
        "if __name__ == \"__main__\":\n",
        "    text = input(\"Enter the Text you want to analyze\")\n",
        "    polarity, subjectivity = analyze_sentiment_textblob(text)\n",
        "    print(f\"TextBlob - Polarity: {polarity}, Subjectivity: {subjectivity}\")\n",
        "    label, score = analyze_sentiment_transformers(text)\n",
        "    print(f\"Transformers - Label: {label}, Score: {score}\")"
      ],
      "metadata": {
        "colab": {
          "base_uri": "https://localhost:8080/"
        },
        "id": "OmXNrDMC4haM",
        "outputId": "12065149-a505-453c-957f-507f4c03bf7f"
      },
      "execution_count": 9,
      "outputs": [
        {
          "output_type": "stream",
          "name": "stdout",
          "text": [
            "Enter the Text you want to analyzeThis is an amazing product\n",
            "TextBlob - Polarity: 0.6000000000000001, Subjectivity: 0.9\n",
            "Transformers - Label: POSITIVE, Score: 0.9998853206634521\n"
          ]
        }
      ]
    }
  ]
}